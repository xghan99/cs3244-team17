{
  "nbformat": 4,
  "nbformat_minor": 0,
  "metadata": {
    "colab": {
      "name": "CS3244 Random Forest + BO",
      "provenance": [],
      "collapsed_sections": [
        "ux8Fz0OK4j2f",
        "2MXk8bB6M2aE",
        "7RtIK0RZNjQ6",
        "PE4Kf90k5y7t",
        "fEZqkGMtConi"
      ],
      "mount_file_id": "1EZAsEKtT-GBHs3kse7y6PL-qO0QGRq_U",
      "authorship_tag": "ABX9TyO8fh7vTEwNoaB6HV8a0JQ3",
      "include_colab_link": true
    },
    "kernelspec": {
      "name": "python3",
      "display_name": "Python 3"
    },
    "language_info": {
      "name": "python"
    }
  },
  "cells": [
    {
      "cell_type": "markdown",
      "metadata": {
        "id": "view-in-github",
        "colab_type": "text"
      },
      "source": [
        "<a href=\"https://colab.research.google.com/github/xghan99/cs3244-team17/blob/main/CS3244_Random_Forest_%2B_BO%20(Baseline%20Model).ipynb\" target=\"_parent\"><img src=\"https://colab.research.google.com/assets/colab-badge.svg\" alt=\"Open In Colab\"/></a>"
      ]
    },
    {
      "cell_type": "markdown",
      "source": [
        "## Set Up\n",
        "\n"
      ],
      "metadata": {
        "id": "ux8Fz0OK4j2f"
      }
    },
    {
      "cell_type": "code",
      "execution_count": 1,
      "metadata": {
        "id": "CvCGL85P-Vvn",
        "colab": {
          "base_uri": "https://localhost:8080/"
        },
        "outputId": "b4077476-7c4a-4d3d-d518-456db3f8132d"
      },
      "outputs": [
        {
          "output_type": "stream",
          "name": "stdout",
          "text": [
            "Drive already mounted at /content/drive; to attempt to forcibly remount, call drive.mount(\"/content/drive\", force_remount=True).\n"
          ]
        }
      ],
      "source": [
        "#Mounting Drive to access training data\n",
        "from google.colab import drive\n",
        "drive.mount('/content/drive')"
      ]
    },
    {
      "cell_type": "code",
      "source": [
        "#Install scikit-optimize\n",
        "!pip install scikit-optimize"
      ],
      "metadata": {
        "id": "pANI0-ToolWR",
        "colab": {
          "base_uri": "https://localhost:8080/"
        },
        "outputId": "e09a7bb1-d5a1-4ac5-a2cb-49684b41cc9d"
      },
      "execution_count": 2,
      "outputs": [
        {
          "output_type": "stream",
          "name": "stdout",
          "text": [
            "Collecting scikit-optimize\n",
            "  Downloading scikit_optimize-0.9.0-py2.py3-none-any.whl (100 kB)\n",
            "\u001b[?25l\r\u001b[K     |███▎                            | 10 kB 20.0 MB/s eta 0:00:01\r\u001b[K     |██████▌                         | 20 kB 20.5 MB/s eta 0:00:01\r\u001b[K     |█████████▉                      | 30 kB 23.2 MB/s eta 0:00:01\r\u001b[K     |█████████████                   | 40 kB 17.1 MB/s eta 0:00:01\r\u001b[K     |████████████████▍               | 51 kB 12.5 MB/s eta 0:00:01\r\u001b[K     |███████████████████▋            | 61 kB 14.3 MB/s eta 0:00:01\r\u001b[K     |██████████████████████▉         | 71 kB 14.3 MB/s eta 0:00:01\r\u001b[K     |██████████████████████████▏     | 81 kB 13.2 MB/s eta 0:00:01\r\u001b[K     |█████████████████████████████▍  | 92 kB 14.4 MB/s eta 0:00:01\r\u001b[K     |████████████████████████████████| 100 kB 6.6 MB/s \n",
            "\u001b[?25hCollecting pyaml>=16.9\n",
            "  Downloading pyaml-21.10.1-py2.py3-none-any.whl (24 kB)\n",
            "Requirement already satisfied: joblib>=0.11 in /usr/local/lib/python3.7/dist-packages (from scikit-optimize) (1.1.0)\n",
            "Requirement already satisfied: scipy>=0.19.1 in /usr/local/lib/python3.7/dist-packages (from scikit-optimize) (1.4.1)\n",
            "Requirement already satisfied: numpy>=1.13.3 in /usr/local/lib/python3.7/dist-packages (from scikit-optimize) (1.21.5)\n",
            "Requirement already satisfied: scikit-learn>=0.20.0 in /usr/local/lib/python3.7/dist-packages (from scikit-optimize) (1.0.2)\n",
            "Requirement already satisfied: PyYAML in /usr/local/lib/python3.7/dist-packages (from pyaml>=16.9->scikit-optimize) (3.13)\n",
            "Requirement already satisfied: threadpoolctl>=2.0.0 in /usr/local/lib/python3.7/dist-packages (from scikit-learn>=0.20.0->scikit-optimize) (3.1.0)\n",
            "Installing collected packages: pyaml, scikit-optimize\n",
            "Successfully installed pyaml-21.10.1 scikit-optimize-0.9.0\n"
          ]
        }
      ]
    },
    {
      "cell_type": "code",
      "source": [
        "#import libraries\n",
        "import pandas as pd\n",
        "import os\n",
        "from skimage.transform import resize\n",
        "from skimage.io import imread\n",
        "import numpy as np\n",
        "import matplotlib.pyplot as plt\n",
        "import pickle\n",
        "from skopt import BayesSearchCV\n",
        "from sklearn.ensemble import RandomForestClassifier\n",
        "from sklearn.dummy import DummyClassifier\n",
        "import random\n",
        "import math\n",
        "from PIL import Image, ImageFile\n",
        "from sklearn.preprocessing import StandardScaler\n",
        "import pickle as pk  \n",
        "from sklearn.decomposition import PCA\n",
        "from skopt import BayesSearchCV\n",
        "from sklearn.metrics import f1_score, recall_score, precision_score, accuracy_score"
      ],
      "metadata": {
        "id": "tkEPIIn2ZCbD"
      },
      "execution_count": 22,
      "outputs": []
    },
    {
      "cell_type": "markdown",
      "source": [
        "## Downloading Data"
      ],
      "metadata": {
        "id": "2MXk8bB6M2aE"
      }
    },
    {
      "cell_type": "code",
      "source": [
        "#Change dir to colab notebooks for downloading of dataset if needed\n",
        "os.chdir(\"/content/drive/My Drive/Colab Notebooks/\")"
      ],
      "metadata": {
        "id": "F8vf2W6no8ip"
      },
      "execution_count": null,
      "outputs": []
    },
    {
      "cell_type": "code",
      "source": [
        "# Kaggle API to download dataset\n",
        "\n",
        "#os.environ['KAGGLE_USERNAME'] = \"\" # username from the json file\n",
        "#os.environ['KAGGLE_KEY'] = \"\" # key from the json file"
      ],
      "metadata": {
        "id": "L3aHDOPxs-9a"
      },
      "execution_count": null,
      "outputs": []
    },
    {
      "cell_type": "code",
      "source": [
        "#!kaggle datasets download -d vipoooool/new-plant-diseases-dataset"
      ],
      "metadata": {
        "id": "wJdLQSXZtQII"
      },
      "execution_count": null,
      "outputs": []
    },
    {
      "cell_type": "code",
      "source": [
        "#!unzip new-plant-diseases-dataset"
      ],
      "metadata": {
        "id": "ovKBPA29uEJB"
      },
      "execution_count": null,
      "outputs": []
    },
    {
      "cell_type": "markdown",
      "source": [
        "## Listing Classes"
      ],
      "metadata": {
        "id": "7RtIK0RZNjQ6"
      }
    },
    {
      "cell_type": "code",
      "source": [
        "#change directory to train\n",
        "os.chdir(\"/content/drive/My Drive/Colab Notebooks/New Plant Diseases Dataset(Augmented)/New Plant Diseases Dataset(Augmented)/train\")"
      ],
      "metadata": {
        "id": "iHcOaIrOhoFo"
      },
      "execution_count": 4,
      "outputs": []
    },
    {
      "cell_type": "code",
      "source": [
        "# Create list of classes\n",
        "categories = os.listdir()\n",
        "categories"
      ],
      "metadata": {
        "id": "TqnZAXSlgDrH",
        "colab": {
          "base_uri": "https://localhost:8080/"
        },
        "outputId": "e7cb38c4-0f14-4fcb-8e79-33585c256bb9"
      },
      "execution_count": 5,
      "outputs": [
        {
          "output_type": "execute_result",
          "data": {
            "text/plain": [
              "['Apple___Apple_scab',\n",
              " 'Apple___Black_rot',\n",
              " 'Apple___Cedar_apple_rust',\n",
              " 'Apple___healthy',\n",
              " 'Blueberry___healthy',\n",
              " 'Cherry_(including_sour)___Powdery_mildew',\n",
              " 'Cherry_(including_sour)___healthy',\n",
              " 'Corn_(maize)___Cercospora_leaf_spot Gray_leaf_spot',\n",
              " 'Corn_(maize)___Common_rust_',\n",
              " 'Corn_(maize)___Northern_Leaf_Blight',\n",
              " 'Corn_(maize)___healthy',\n",
              " 'Grape___Black_rot',\n",
              " 'Grape___Esca_(Black_Measles)',\n",
              " 'Grape___Leaf_blight_(Isariopsis_Leaf_Spot)',\n",
              " 'Grape___healthy',\n",
              " 'Orange___Haunglongbing_(Citrus_greening)',\n",
              " 'Peach___Bacterial_spot',\n",
              " 'Peach___healthy',\n",
              " 'Pepper,_bell___Bacterial_spot',\n",
              " 'Pepper,_bell___healthy',\n",
              " 'Potato___Early_blight',\n",
              " 'Potato___Late_blight',\n",
              " 'Potato___healthy',\n",
              " 'Raspberry___healthy',\n",
              " 'Soybean___healthy',\n",
              " 'Squash___Powdery_mildew',\n",
              " 'Strawberry___Leaf_scorch',\n",
              " 'Strawberry___healthy',\n",
              " 'Tomato___Bacterial_spot',\n",
              " 'Tomato___Early_blight',\n",
              " 'Tomato___Late_blight',\n",
              " 'Tomato___Leaf_Mold',\n",
              " 'Tomato___Septoria_leaf_spot',\n",
              " 'Tomato___Spider_mites Two-spotted_spider_mite',\n",
              " 'Tomato___Target_Spot',\n",
              " 'Tomato___Tomato_Yellow_Leaf_Curl_Virus',\n",
              " 'Tomato___Tomato_mosaic_virus',\n",
              " 'Tomato___healthy']"
            ]
          },
          "metadata": {},
          "execution_count": 5
        }
      ]
    },
    {
      "cell_type": "code",
      "source": [
        "# Sieveing out relevant classes\n",
        "corn_diseases = categories[7:11]\n",
        "potato_diseases = categories[20:23]\n",
        "tomato_diseases = categories[28:]\n"
      ],
      "metadata": {
        "id": "NH4zwX2H47yQ"
      },
      "execution_count": 6,
      "outputs": []
    },
    {
      "cell_type": "code",
      "source": [
        "ImageFile.LOAD_TRUNCATED_IMAGES = True"
      ],
      "metadata": {
        "id": "QHznM2dpwEXZ"
      },
      "execution_count": 7,
      "outputs": []
    },
    {
      "cell_type": "markdown",
      "source": [
        "## Corn Model"
      ],
      "metadata": {
        "id": "PE4Kf90k5y7t"
      }
    },
    {
      "cell_type": "code",
      "source": [
        "# Function for drawing out relevant training data \n",
        "# Code Source: https://medium.com/analytics-vidhya/image-classification-using-machine-learning-support-vector-machine-svm-dc7a0ec92e01\n",
        "def read_training_data(crop):\n",
        "  flat_data_arr=[] #input array\n",
        "  target_arr=[] #output array\n",
        "  datadir='' #path which contains all the categories of images\n",
        "  for i in crop:\n",
        "    path=os.path.join(datadir,i)\n",
        "    images = os.listdir(path)\n",
        "    for img in images:\n",
        "        try:\n",
        "          img_array=imread(os.path.join(path,img))\n",
        "          \n",
        "        except AttributeError:\n",
        "          continue\n",
        "       \n",
        "        img_resized=resize(img_array,(32,32,3))\n",
        "        flat_data_arr.append(img_resized.flatten())\n",
        "        target_arr.append(categories.index(i))\n",
        "    \n",
        "  \n",
        "  flat_data=np.array(flat_data_arr)\n",
        "  target=np.array(target_arr)\n",
        "  df=pd.DataFrame(flat_data) #dataframe\n",
        "  df['Target']=target\n",
        "  x=df.iloc[:,:-1] #input data \n",
        "  y=df.iloc[:,-1] #output data\n",
        "  return x,y\n",
        "\n",
        "\n",
        "corn_train_x , corn_train_y = read_training_data(corn_diseases)\n"
      ],
      "metadata": {
        "id": "280Tx0VmoHAw"
      },
      "execution_count": 8,
      "outputs": []
    },
    {
      "cell_type": "code",
      "source": [
        "corn_train_x.shape"
      ],
      "metadata": {
        "colab": {
          "base_uri": "https://localhost:8080/"
        },
        "id": "iuPPrmBX9yLS",
        "outputId": "71def335-e4e2-4920-fb72-e1f9c3053f42"
      },
      "execution_count": 9,
      "outputs": [
        {
          "output_type": "execute_result",
          "data": {
            "text/plain": [
              "(7273, 3072)"
            ]
          },
          "metadata": {},
          "execution_count": 9
        }
      ]
    },
    {
      "cell_type": "code",
      "source": [
        "# Scale and apply PCA on Data\n",
        "# Code Source: https://towardsdatascience.com/pca-using-python-scikit-learn-e653f8989e60\n",
        "def transform(x):\n",
        "  scaler = StandardScaler()\n",
        "  scaler.fit(x)\n",
        "  x_new = scaler.transform(x)\n",
        "  pca = PCA(0.95)\n",
        "  pca.fit(x_new)\n",
        "  x_new = pca.transform(x_new)\n",
        "\n",
        "  return x_new, scaler, pca\n",
        "\n",
        "corn_train_x_transformed, corn_scaler, corn_pca = transform(corn_train_x)"
      ],
      "metadata": {
        "id": "HgQGud147839"
      },
      "execution_count": 10,
      "outputs": []
    },
    {
      "cell_type": "code",
      "source": [
        "corn_train_x_transformed.shape"
      ],
      "metadata": {
        "colab": {
          "base_uri": "https://localhost:8080/"
        },
        "id": "iuyl91I19fUX",
        "outputId": "fbc31168-5eec-4db2-b89f-806e20fdff84"
      },
      "execution_count": 11,
      "outputs": [
        {
          "output_type": "execute_result",
          "data": {
            "text/plain": [
              "(7273, 145)"
            ]
          },
          "metadata": {},
          "execution_count": 11
        }
      ]
    },
    {
      "cell_type": "code",
      "source": [
        "#Train Random Forest Classifier with BayesSearchCV\n",
        "#Code Source: https://scikit-optimize.github.io/stable/modules/generated/skopt.BayesSearchCV.html\n",
        "def train_model(train_x, train_y):\n",
        "  opt = BayesSearchCV(\n",
        "    RandomForestClassifier(),\n",
        "    {\n",
        "        'n_estimators': [80,100,140,200,280,380],\n",
        "        'criterion': ['gini','entropy'],\n",
        "        'max_features': ['auto', 'sqrt', 'log2'],  \n",
        "        'max_depth': [10,15,25,40],\n",
        "        'min_samples_split':[2,4,8],\n",
        "        'min_samples_leaf':[1,2,5,10] \n",
        "    },\n",
        "    n_iter=8,\n",
        "    cv=3,\n",
        "    scoring=\"accuracy\",\n",
        "    verbose=2,\n",
        "    return_train_score=True\n",
        ")\n",
        "\n",
        "  opt.fit(train_x,train_y)\n",
        "\n",
        "  return opt\n",
        "\n",
        "corn_opt = train_model(corn_train_x_transformed, corn_train_y)\n"
      ],
      "metadata": {
        "id": "0xZsRBID915U",
        "colab": {
          "base_uri": "https://localhost:8080/"
        },
        "outputId": "9e488084-ed67-4c3f-d4a8-eebcfe03e3ef"
      },
      "execution_count": 12,
      "outputs": [
        {
          "output_type": "stream",
          "name": "stdout",
          "text": [
            "Fitting 3 folds for each of 1 candidates, totalling 3 fits\n",
            "[CV] END criterion=entropy, max_depth=15, max_features=log2, min_samples_leaf=5, min_samples_split=2, n_estimators=380; total time=  29.6s\n",
            "[CV] END criterion=entropy, max_depth=15, max_features=log2, min_samples_leaf=5, min_samples_split=2, n_estimators=380; total time=  29.6s\n",
            "[CV] END criterion=entropy, max_depth=15, max_features=log2, min_samples_leaf=5, min_samples_split=2, n_estimators=380; total time=  29.8s\n",
            "Fitting 3 folds for each of 1 candidates, totalling 3 fits\n",
            "[CV] END criterion=entropy, max_depth=15, max_features=auto, min_samples_leaf=10, min_samples_split=4, n_estimators=380; total time=  43.8s\n",
            "[CV] END criterion=entropy, max_depth=15, max_features=auto, min_samples_leaf=10, min_samples_split=4, n_estimators=380; total time=  43.5s\n",
            "[CV] END criterion=entropy, max_depth=15, max_features=auto, min_samples_leaf=10, min_samples_split=4, n_estimators=380; total time=  43.9s\n",
            "Fitting 3 folds for each of 1 candidates, totalling 3 fits\n",
            "[CV] END criterion=gini, max_depth=10, max_features=log2, min_samples_leaf=1, min_samples_split=4, n_estimators=80; total time=   2.2s\n",
            "[CV] END criterion=gini, max_depth=10, max_features=log2, min_samples_leaf=1, min_samples_split=4, n_estimators=80; total time=   2.3s\n",
            "[CV] END criterion=gini, max_depth=10, max_features=log2, min_samples_leaf=1, min_samples_split=4, n_estimators=80; total time=   2.3s\n",
            "Fitting 3 folds for each of 1 candidates, totalling 3 fits\n",
            "[CV] END criterion=gini, max_depth=25, max_features=log2, min_samples_leaf=2, min_samples_split=4, n_estimators=140; total time=   5.3s\n",
            "[CV] END criterion=gini, max_depth=25, max_features=log2, min_samples_leaf=2, min_samples_split=4, n_estimators=140; total time=   5.3s\n",
            "[CV] END criterion=gini, max_depth=25, max_features=log2, min_samples_leaf=2, min_samples_split=4, n_estimators=140; total time=   5.4s\n",
            "Fitting 3 folds for each of 1 candidates, totalling 3 fits\n",
            "[CV] END criterion=entropy, max_depth=40, max_features=sqrt, min_samples_leaf=5, min_samples_split=2, n_estimators=80; total time=  10.3s\n",
            "[CV] END criterion=entropy, max_depth=40, max_features=sqrt, min_samples_leaf=5, min_samples_split=2, n_estimators=80; total time=  10.3s\n",
            "[CV] END criterion=entropy, max_depth=40, max_features=sqrt, min_samples_leaf=5, min_samples_split=2, n_estimators=80; total time=  10.4s\n",
            "Fitting 3 folds for each of 1 candidates, totalling 3 fits\n",
            "[CV] END criterion=entropy, max_depth=40, max_features=auto, min_samples_leaf=2, min_samples_split=2, n_estimators=100; total time=  13.4s\n",
            "[CV] END criterion=entropy, max_depth=40, max_features=auto, min_samples_leaf=2, min_samples_split=2, n_estimators=100; total time=  13.4s\n",
            "[CV] END criterion=entropy, max_depth=40, max_features=auto, min_samples_leaf=2, min_samples_split=2, n_estimators=100; total time=  13.6s\n",
            "Fitting 3 folds for each of 1 candidates, totalling 3 fits\n",
            "[CV] END criterion=gini, max_depth=15, max_features=sqrt, min_samples_leaf=10, min_samples_split=8, n_estimators=140; total time=   6.8s\n",
            "[CV] END criterion=gini, max_depth=15, max_features=sqrt, min_samples_leaf=10, min_samples_split=8, n_estimators=140; total time=   6.6s\n",
            "[CV] END criterion=gini, max_depth=15, max_features=sqrt, min_samples_leaf=10, min_samples_split=8, n_estimators=140; total time=   6.9s\n",
            "Fitting 3 folds for each of 1 candidates, totalling 3 fits\n",
            "[CV] END criterion=gini, max_depth=10, max_features=log2, min_samples_leaf=1, min_samples_split=4, n_estimators=140; total time=   4.0s\n",
            "[CV] END criterion=gini, max_depth=10, max_features=log2, min_samples_leaf=1, min_samples_split=4, n_estimators=140; total time=   4.0s\n",
            "[CV] END criterion=gini, max_depth=10, max_features=log2, min_samples_leaf=1, min_samples_split=4, n_estimators=140; total time=   4.0s\n"
          ]
        }
      ]
    },
    {
      "cell_type": "code",
      "source": [
        "os.chdir(\"/content/drive/My Drive/Colab Notebooks/New Plant Diseases Dataset(Augmented)/New Plant Diseases Dataset(Augmented)/valid\")"
      ],
      "metadata": {
        "id": "ztGjS3fLA_xD"
      },
      "execution_count": 13,
      "outputs": []
    },
    {
      "cell_type": "code",
      "source": [
        "def read_validation_data(crop, scaler, pca):\n",
        "  flat_data_arr_val=[] #input array\n",
        "  target_arr_val=[] #output array\n",
        "  datadir='' \n",
        "  #path which contains all the categories of images\n",
        "  for i in crop:\n",
        "    path=os.path.join(datadir,i)\n",
        "    for img in os.listdir(path):\n",
        "        try:\n",
        "          img_array=imread(os.path.join(path,img))\n",
        "        except AttributeError:\n",
        "          continue\n",
        "        img_resized=resize(img_array,(32,32,3))\n",
        "        flat_data_arr_val.append(img_resized.flatten())\n",
        "        target_arr_val.append(categories.index(i))\n",
        "\n",
        "  flat_data_val=np.array(flat_data_arr_val)\n",
        "  target_val=np.array(target_arr_val)\n",
        "  df_val=pd.DataFrame(flat_data_val) #dataframe\n",
        "  df_val['Target']=target_val\n",
        "  x_val=df_val.iloc[:,:-1] #input data \n",
        "  y_val=df_val.iloc[:,-1] #output data\n",
        "\n",
        "  #Transform Data\n",
        "  x_val = scaler.transform(x_val)\n",
        "  x_val = pca.transform(x_val)\n",
        "\n",
        "  return x_val,y_val\n",
        "\n",
        "corn_val_x, corn_val_y = read_validation_data(corn_diseases, corn_scaler, corn_pca)"
      ],
      "metadata": {
        "id": "9stNyi7u_0TP"
      },
      "execution_count": 14,
      "outputs": []
    },
    {
      "cell_type": "code",
      "source": [
        "def evaluate(x_val,y_val,clf):\n",
        "  y_predicted = clf.predict(x_val)\n",
        "  score = accuracy_score(y_val,y_predicted)\n",
        "  return score\n",
        "\n",
        "evaluate(corn_val_x,corn_val_y, corn_opt)"
      ],
      "metadata": {
        "colab": {
          "base_uri": "https://localhost:8080/"
        },
        "id": "fmkh5yqdBvlr",
        "outputId": "e11fe9f0-a792-4802-c1e4-bdd067929f8d"
      },
      "execution_count": 27,
      "outputs": [
        {
          "output_type": "execute_result",
          "data": {
            "text/plain": [
              "0.8868234007654456"
            ]
          },
          "metadata": {},
          "execution_count": 27
        }
      ]
    },
    {
      "cell_type": "markdown",
      "source": [
        "## Potato Model"
      ],
      "metadata": {
        "id": "fEZqkGMtConi"
      }
    },
    {
      "cell_type": "code",
      "source": [
        "#read_training_data\n",
        "#transform\n",
        "#train_model\n",
        "#read_validation_data\n",
        "#evaluate"
      ],
      "metadata": {
        "id": "VWvPq_jEIHY5"
      },
      "execution_count": 16,
      "outputs": []
    },
    {
      "cell_type": "code",
      "source": [
        "os.chdir(\"/content/drive/My Drive/Colab Notebooks/New Plant Diseases Dataset(Augmented)/New Plant Diseases Dataset(Augmented)/train\")\n",
        "potato_train_x, potato_train_y = read_training_data(potato_diseases)\n",
        "potato_train_x_transformed, potato_scaler, potato_pca = transform(potato_train_x)\n",
        "potato_opt = train_model(potato_train_x_transformed,potato_train_y)\n",
        "os.chdir(\"/content/drive/My Drive/Colab Notebooks/New Plant Diseases Dataset(Augmented)/New Plant Diseases Dataset(Augmented)/valid\")\n",
        "potato_val_x,potato_val_y = read_validation_data(potato_diseases, potato_scaler, potato_pca)\n",
        "\n"
      ],
      "metadata": {
        "id": "A2bpUBMFIVg5",
        "colab": {
          "base_uri": "https://localhost:8080/"
        },
        "outputId": "ff9d2c0d-2bc2-469e-9147-57309ec6500f"
      },
      "execution_count": 17,
      "outputs": [
        {
          "output_type": "stream",
          "name": "stdout",
          "text": [
            "Fitting 3 folds for each of 1 candidates, totalling 3 fits\n",
            "[CV] END criterion=gini, max_depth=40, max_features=log2, min_samples_leaf=2, min_samples_split=8, n_estimators=380; total time=  11.8s\n",
            "[CV] END criterion=gini, max_depth=40, max_features=log2, min_samples_leaf=2, min_samples_split=8, n_estimators=380; total time=  13.2s\n",
            "[CV] END criterion=gini, max_depth=40, max_features=log2, min_samples_leaf=2, min_samples_split=8, n_estimators=380; total time=  11.5s\n",
            "Fitting 3 folds for each of 1 candidates, totalling 3 fits\n",
            "[CV] END criterion=gini, max_depth=15, max_features=log2, min_samples_leaf=10, min_samples_split=8, n_estimators=280; total time=   6.9s\n",
            "[CV] END criterion=gini, max_depth=15, max_features=log2, min_samples_leaf=10, min_samples_split=8, n_estimators=280; total time=   6.9s\n",
            "[CV] END criterion=gini, max_depth=15, max_features=log2, min_samples_leaf=10, min_samples_split=8, n_estimators=280; total time=   6.9s\n",
            "Fitting 3 folds for each of 1 candidates, totalling 3 fits\n",
            "[CV] END criterion=gini, max_depth=15, max_features=sqrt, min_samples_leaf=10, min_samples_split=4, n_estimators=280; total time=  11.9s\n",
            "[CV] END criterion=gini, max_depth=15, max_features=sqrt, min_samples_leaf=10, min_samples_split=4, n_estimators=280; total time=  11.9s\n",
            "[CV] END criterion=gini, max_depth=15, max_features=sqrt, min_samples_leaf=10, min_samples_split=4, n_estimators=280; total time=  12.0s\n",
            "Fitting 3 folds for each of 1 candidates, totalling 3 fits\n",
            "[CV] END criterion=gini, max_depth=15, max_features=sqrt, min_samples_leaf=2, min_samples_split=8, n_estimators=200; total time=  10.0s\n",
            "[CV] END criterion=gini, max_depth=15, max_features=sqrt, min_samples_leaf=2, min_samples_split=8, n_estimators=200; total time=   9.5s\n",
            "[CV] END criterion=gini, max_depth=15, max_features=sqrt, min_samples_leaf=2, min_samples_split=8, n_estimators=200; total time=   9.7s\n",
            "Fitting 3 folds for each of 1 candidates, totalling 3 fits\n",
            "[CV] END criterion=gini, max_depth=25, max_features=log2, min_samples_leaf=1, min_samples_split=4, n_estimators=100; total time=   3.1s\n",
            "[CV] END criterion=gini, max_depth=25, max_features=log2, min_samples_leaf=1, min_samples_split=4, n_estimators=100; total time=   3.1s\n",
            "[CV] END criterion=gini, max_depth=25, max_features=log2, min_samples_leaf=1, min_samples_split=4, n_estimators=100; total time=   3.1s\n",
            "Fitting 3 folds for each of 1 candidates, totalling 3 fits\n",
            "[CV] END criterion=gini, max_depth=40, max_features=log2, min_samples_leaf=2, min_samples_split=4, n_estimators=280; total time=   8.4s\n",
            "[CV] END criterion=gini, max_depth=40, max_features=log2, min_samples_leaf=2, min_samples_split=4, n_estimators=280; total time=   8.6s\n",
            "[CV] END criterion=gini, max_depth=40, max_features=log2, min_samples_leaf=2, min_samples_split=4, n_estimators=280; total time=   8.6s\n",
            "Fitting 3 folds for each of 1 candidates, totalling 3 fits\n",
            "[CV] END criterion=gini, max_depth=25, max_features=auto, min_samples_leaf=5, min_samples_split=8, n_estimators=200; total time=   9.4s\n",
            "[CV] END criterion=gini, max_depth=25, max_features=auto, min_samples_leaf=5, min_samples_split=8, n_estimators=200; total time=   9.4s\n",
            "[CV] END criterion=gini, max_depth=25, max_features=auto, min_samples_leaf=5, min_samples_split=8, n_estimators=200; total time=   9.6s\n",
            "Fitting 3 folds for each of 1 candidates, totalling 3 fits\n",
            "[CV] END criterion=gini, max_depth=25, max_features=log2, min_samples_leaf=2, min_samples_split=8, n_estimators=100; total time=   3.0s\n",
            "[CV] END criterion=gini, max_depth=25, max_features=log2, min_samples_leaf=2, min_samples_split=8, n_estimators=100; total time=   3.1s\n",
            "[CV] END criterion=gini, max_depth=25, max_features=log2, min_samples_leaf=2, min_samples_split=8, n_estimators=100; total time=   3.0s\n"
          ]
        },
        {
          "output_type": "execute_result",
          "data": {
            "text/plain": [
              "0.8684397776171927"
            ]
          },
          "metadata": {},
          "execution_count": 17
        }
      ]
    },
    {
      "cell_type": "code",
      "source": [
        "evaluate(potato_val_x,potato_val_y,potato_opt)"
      ],
      "metadata": {
        "colab": {
          "base_uri": "https://localhost:8080/"
        },
        "id": "xIF5CnutJolD",
        "outputId": "ca9ae91f-6497-40a9-92c1-8ab6fe2a7b97"
      },
      "execution_count": 28,
      "outputs": [
        {
          "output_type": "execute_result",
          "data": {
            "text/plain": [
              "0.8674614305750351"
            ]
          },
          "metadata": {},
          "execution_count": 28
        }
      ]
    },
    {
      "cell_type": "markdown",
      "source": [
        "## Tomato Model"
      ],
      "metadata": {
        "id": "uMM4y7eUR1fn"
      }
    },
    {
      "cell_type": "code",
      "source": [
        "os.chdir(\"/content/drive/My Drive/Colab Notebooks/New Plant Diseases Dataset(Augmented)/New Plant Diseases Dataset(Augmented)/train\")\n",
        "tomato_train_x, tomato_train_y = read_training_data(tomato_diseases)\n",
        "tomato_train_x_transformed, tomato_scaler, tomato_pca = transform(tomato_train_x)\n",
        "tomato_opt = train_model(tomato_train_x_transformed,tomato_train_y)\n",
        "os.chdir(\"/content/drive/My Drive/Colab Notebooks/New Plant Diseases Dataset(Augmented)/New Plant Diseases Dataset(Augmented)/valid\")\n",
        "tomato_val_x,tomato_val_y = read_validation_data(tomato_diseases, tomato_scaler, tomato_pca)\n"
      ],
      "metadata": {
        "colab": {
          "base_uri": "https://localhost:8080/"
        },
        "id": "BzmSYPG2RX2O",
        "outputId": "66cf2180-a545-43c3-b1b3-81ddcebcf2a6"
      },
      "execution_count": 19,
      "outputs": [
        {
          "output_type": "stream",
          "name": "stdout",
          "text": [
            "Fitting 3 folds for each of 1 candidates, totalling 3 fits\n",
            "[CV] END criterion=entropy, max_depth=10, max_features=auto, min_samples_leaf=1, min_samples_split=2, n_estimators=140; total time= 1.4min\n",
            "[CV] END criterion=entropy, max_depth=10, max_features=auto, min_samples_leaf=1, min_samples_split=2, n_estimators=140; total time= 1.4min\n",
            "[CV] END criterion=entropy, max_depth=10, max_features=auto, min_samples_leaf=1, min_samples_split=2, n_estimators=140; total time= 1.4min\n",
            "Fitting 3 folds for each of 1 candidates, totalling 3 fits\n",
            "[CV] END criterion=entropy, max_depth=25, max_features=sqrt, min_samples_leaf=10, min_samples_split=4, n_estimators=200; total time= 2.0min\n",
            "[CV] END criterion=entropy, max_depth=25, max_features=sqrt, min_samples_leaf=10, min_samples_split=4, n_estimators=200; total time= 2.0min\n",
            "[CV] END criterion=entropy, max_depth=25, max_features=sqrt, min_samples_leaf=10, min_samples_split=4, n_estimators=200; total time= 2.1min\n",
            "Fitting 3 folds for each of 1 candidates, totalling 3 fits\n",
            "[CV] END criterion=gini, max_depth=25, max_features=sqrt, min_samples_leaf=1, min_samples_split=4, n_estimators=80; total time=  14.6s\n",
            "[CV] END criterion=gini, max_depth=25, max_features=sqrt, min_samples_leaf=1, min_samples_split=4, n_estimators=80; total time=  14.5s\n",
            "[CV] END criterion=gini, max_depth=25, max_features=sqrt, min_samples_leaf=1, min_samples_split=4, n_estimators=80; total time=  14.5s\n",
            "Fitting 3 folds for each of 1 candidates, totalling 3 fits\n",
            "[CV] END criterion=gini, max_depth=15, max_features=log2, min_samples_leaf=1, min_samples_split=4, n_estimators=280; total time=  27.4s\n",
            "[CV] END criterion=gini, max_depth=15, max_features=log2, min_samples_leaf=1, min_samples_split=4, n_estimators=280; total time=  27.4s\n",
            "[CV] END criterion=gini, max_depth=15, max_features=log2, min_samples_leaf=1, min_samples_split=4, n_estimators=280; total time=  27.5s\n",
            "Fitting 3 folds for each of 1 candidates, totalling 3 fits\n",
            "[CV] END criterion=entropy, max_depth=25, max_features=log2, min_samples_leaf=5, min_samples_split=2, n_estimators=100; total time=  38.2s\n",
            "[CV] END criterion=entropy, max_depth=25, max_features=log2, min_samples_leaf=5, min_samples_split=2, n_estimators=100; total time=  38.5s\n",
            "[CV] END criterion=entropy, max_depth=25, max_features=log2, min_samples_leaf=5, min_samples_split=2, n_estimators=100; total time=  38.2s\n",
            "Fitting 3 folds for each of 1 candidates, totalling 3 fits\n",
            "[CV] END criterion=entropy, max_depth=10, max_features=log2, min_samples_leaf=1, min_samples_split=4, n_estimators=200; total time= 1.1min\n",
            "[CV] END criterion=entropy, max_depth=10, max_features=log2, min_samples_leaf=1, min_samples_split=4, n_estimators=200; total time= 1.1min\n",
            "[CV] END criterion=entropy, max_depth=10, max_features=log2, min_samples_leaf=1, min_samples_split=4, n_estimators=200; total time= 1.1min\n",
            "Fitting 3 folds for each of 1 candidates, totalling 3 fits\n",
            "[CV] END criterion=gini, max_depth=25, max_features=auto, min_samples_leaf=2, min_samples_split=4, n_estimators=200; total time=  35.2s\n",
            "[CV] END criterion=gini, max_depth=25, max_features=auto, min_samples_leaf=2, min_samples_split=4, n_estimators=200; total time=  35.1s\n",
            "[CV] END criterion=gini, max_depth=25, max_features=auto, min_samples_leaf=2, min_samples_split=4, n_estimators=200; total time=  35.2s\n",
            "Fitting 3 folds for each of 1 candidates, totalling 3 fits\n",
            "[CV] END criterion=entropy, max_depth=15, max_features=log2, min_samples_leaf=2, min_samples_split=8, n_estimators=140; total time=  55.9s\n",
            "[CV] END criterion=entropy, max_depth=15, max_features=log2, min_samples_leaf=2, min_samples_split=8, n_estimators=140; total time=  56.0s\n",
            "[CV] END criterion=entropy, max_depth=15, max_features=log2, min_samples_leaf=2, min_samples_split=8, n_estimators=140; total time=  55.7s\n"
          ]
        },
        {
          "output_type": "execute_result",
          "data": {
            "text/plain": [
              "0.71099295378366"
            ]
          },
          "metadata": {},
          "execution_count": 19
        }
      ]
    },
    {
      "cell_type": "code",
      "source": [
        "evaluate(tomato_val_x,tomato_val_y,tomato_opt)"
      ],
      "metadata": {
        "colab": {
          "base_uri": "https://localhost:8080/"
        },
        "id": "4wAkxyyNZvcz",
        "outputId": "88ef5747-db30-4b56-b02f-5e072dd3b2b5"
      },
      "execution_count": 31,
      "outputs": [
        {
          "output_type": "execute_result",
          "data": {
            "text/plain": [
              "0.7131952017448201"
            ]
          },
          "metadata": {},
          "execution_count": 31
        }
      ]
    }
  ]
}