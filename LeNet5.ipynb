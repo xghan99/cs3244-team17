{
 "cells": [
  {
   "cell_type": "markdown",
   "id": "05ffbbcb",
   "metadata": {},
   "source": [
    "# LeNet-5 Implementation for Crop Disease Detection"
   ]
  },
  {
   "cell_type": "markdown",
   "id": "e82f8455",
   "metadata": {},
   "source": [
    "Setting up environment"
   ]
  },
  {
   "cell_type": "code",
   "execution_count": 1,
   "id": "53b8c8a0",
   "metadata": {},
   "outputs": [],
   "source": [
    "import os\n",
    "import pandas as pd\n",
    "import cv2\n",
    "import numpy as np\n",
    "import tensorflow as tf\n",
    "import matplotlib.pyplot as plt\n",
    "from tensorflow.keras import datasets, layers, models\n",
    "from tensorflow.keras.models import Sequential, load_model\n",
    "from tensorflow.keras.layers import Conv2D, MaxPool2D, Flatten, Dropout, Dense, MaxPooling2D, AveragePooling2D\n",
    "from keras.losses import sparse_categorical_crossentropy"
   ]
  },
  {
   "cell_type": "code",
   "execution_count": 2,
   "id": "5272a459",
   "metadata": {},
   "outputs": [],
   "source": [
    "os.chdir(\"D:/New Plant Diseases Dataset(Augmented)/New Plant Diseases Dataset(Augmented)/train\")"
   ]
  },
  {
   "cell_type": "markdown",
   "id": "a6445da1",
   "metadata": {},
   "source": [
    "Retrieving relative file paths for corn, potato and tomato datasets from Google Drive"
   ]
  },
  {
   "cell_type": "code",
   "execution_count": 3,
   "id": "630e468d",
   "metadata": {},
   "outputs": [],
   "source": [
    "corn_dataset = ['Corn_(maize)___Cercospora_leaf_spot Gray_leaf_spot', 'Corn_(maize)___Common_rust_', \n",
    "                'Corn_(maize)___Northern_Leaf_Blight', 'Corn_(maize)___healthy']\n",
    "potato_dataset = ['Potato___Early_blight', 'Potato___Late_blight', 'Potato___healthy']\n",
    "tomato_dataset = ['Tomato___Bacterial_spot', 'Tomato___Early_blight', 'Tomato___Late_blight', \n",
    "                  'Tomato___Leaf_Mold', 'Tomato___Septoria_leaf_spot', 'Tomato___Spider_mites Two-spotted_spider_mite', \n",
    "                  'Tomato___Target_Spot', 'Tomato___Tomato_Yellow_Leaf_Curl_Virus', 'Tomato___Tomato_mosaic_virus', \n",
    "                  'Tomato___healthy']"
   ]
  },
  {
   "cell_type": "markdown",
   "id": "fb8b087d",
   "metadata": {},
   "source": [
    "The `getDataFrom` function retrieves image data from file paths"
   ]
  },
  {
   "cell_type": "code",
   "execution_count": 4,
   "id": "58052cd2",
   "metadata": {},
   "outputs": [],
   "source": [
    "def getDataFrom(labels):\n",
    "    \"\"\"Takes as input a list containing strings of relative filepaths. Outputs formatted dataset in the following order:\n",
    "    training_data_X, training_data_Y, validation_data_X, validation_data_Y, test_data_X\"\"\"\n",
    "    train_X = []\n",
    "    train_Y = []\n",
    "    for i, label in enumerate(labels):\n",
    "        path = os.path.join(\"D:/New Plant Diseases Dataset(Augmented)/New Plant Diseases Dataset(Augmented)/train\", label).replace(\"\\\\\",\"/\")\n",
    "        print(\"Processing:\", path)\n",
    "        os.chdir(path)\n",
    "        image_paths = os.listdir()\n",
    "        for image_path in image_paths:\n",
    "            image = cv2.imread(image_path)\n",
    "            try:\n",
    "                image = image[::-1] # Change from BGR to RGB\n",
    "            except:\n",
    "                continue\n",
    "            image = cv2.resize(image, (32, 32))\n",
    "            train_X.append(image)\n",
    "            train_Y.append(i)\n",
    "    train_X = np.array(train_X)\n",
    "    train_Y = np.array(train_Y)\n",
    "    train_X.reshape(len(train_X), 32, 32, 3)\n",
    "\n",
    "    valid_X = []\n",
    "    valid_Y = []\n",
    "    for i, label in enumerate(labels):\n",
    "        path = os.path.join(\"D:/New Plant Diseases Dataset(Augmented)/New Plant Diseases Dataset(Augmented)/valid\", label).replace(\"\\\\\",\"/\")\n",
    "        print(\"Processing:\", path)\n",
    "        os.chdir(path)\n",
    "        image_paths = os.listdir()\n",
    "        for image_path in image_paths:\n",
    "            image = cv2.imread(image_path)\n",
    "            try:\n",
    "                image = image[::-1] # Change from BGR to RGB\n",
    "            except:\n",
    "                continue\n",
    "            image = cv2.resize(image, (32, 32))\n",
    "            valid_X.append(image)\n",
    "            valid_Y.append(i)\n",
    "    valid_X = np.array(valid_X)\n",
    "    valid_Y = np.array(valid_Y)\n",
    "    valid_X.reshape(len(valid_X), 32, 32, 3)\n",
    "\n",
    "    train_X, valid_X = train_X / 255.0, valid_X / 255.0\n",
    "\n",
    "    return train_X, train_Y, valid_X, valid_Y"
   ]
  },
  {
   "cell_type": "markdown",
   "id": "fc1c8574",
   "metadata": {},
   "source": [
    "The `trainLeNet5` function takes in training data, validation data and number of epochs, and prints the accuracy of the LeNet-5 model"
   ]
  },
  {
   "cell_type": "code",
   "execution_count": 5,
   "id": "c645bd7a",
   "metadata": {},
   "outputs": [],
   "source": [
    "def trainLeNet5(train_X, train_Y, valid_X, valid_Y, num_epochs, num_classes, model_name):\n",
    "    model = Sequential([\n",
    "        Conv2D(6, kernel_size = 5, strides = 1,  activation = 'tanh', input_shape = valid_X[0].shape, padding = 'same'),\n",
    "        AveragePooling2D(),\n",
    "        Conv2D(16, kernel_size = 5, strides = 1, activation = 'tanh', padding = 'valid'),\n",
    "        AveragePooling2D(),\n",
    "        Conv2D(120, kernel_size = 5, strides = 1, activation = 'tanh', padding = 'valid'),\n",
    "        Flatten(), #Flatten    \n",
    "        Dense(84, activation = 'tanh'),\n",
    "        Dense(num_classes, activation = 'softmax')\n",
    "    ])\n",
    "    model.compile(optimizer = 'adam', loss = sparse_categorical_crossentropy, metrics = ['accuracy'])\n",
    "\n",
    "    history = model.fit(train_X, train_Y, epochs = num_epochs, verbose = 0)\n",
    "    model.evaluate(valid_X, valid_Y)\n",
    "    model.save(model_name)\n",
    "    return history"
   ]
  },
  {
   "cell_type": "markdown",
   "id": "b7b5e859",
   "metadata": {},
   "source": [
    "`model_names` is a variable which stores a list of model names for the 3 crops and various epochs from 1 to 20"
   ]
  },
  {
   "cell_type": "code",
   "execution_count": 6,
   "id": "fc41f5a1",
   "metadata": {},
   "outputs": [],
   "source": [
    "model_names = []"
   ]
  },
  {
   "cell_type": "markdown",
   "id": "016715e7",
   "metadata": {},
   "source": [
    "# Corn"
   ]
  },
  {
   "cell_type": "code",
   "execution_count": 7,
   "id": "89d21981",
   "metadata": {},
   "outputs": [
    {
     "name": "stdout",
     "output_type": "stream",
     "text": [
      "Processing: D:/New Plant Diseases Dataset(Augmented)/New Plant Diseases Dataset(Augmented)/train/Corn_(maize)___Cercospora_leaf_spot Gray_leaf_spot\n",
      "Processing: D:/New Plant Diseases Dataset(Augmented)/New Plant Diseases Dataset(Augmented)/train/Corn_(maize)___Common_rust_\n",
      "Processing: D:/New Plant Diseases Dataset(Augmented)/New Plant Diseases Dataset(Augmented)/train/Corn_(maize)___Northern_Leaf_Blight\n",
      "Processing: D:/New Plant Diseases Dataset(Augmented)/New Plant Diseases Dataset(Augmented)/train/Corn_(maize)___healthy\n",
      "Processing: D:/New Plant Diseases Dataset(Augmented)/New Plant Diseases Dataset(Augmented)/valid/Corn_(maize)___Cercospora_leaf_spot Gray_leaf_spot\n",
      "Processing: D:/New Plant Diseases Dataset(Augmented)/New Plant Diseases Dataset(Augmented)/valid/Corn_(maize)___Common_rust_\n",
      "Processing: D:/New Plant Diseases Dataset(Augmented)/New Plant Diseases Dataset(Augmented)/valid/Corn_(maize)___Northern_Leaf_Blight\n",
      "Processing: D:/New Plant Diseases Dataset(Augmented)/New Plant Diseases Dataset(Augmented)/valid/Corn_(maize)___healthy\n"
     ]
    }
   ],
   "source": [
    "train_X, train_Y, valid_X, valid_Y = getDataFrom(corn_dataset)"
   ]
  },
  {
   "cell_type": "code",
   "execution_count": 8,
   "id": "e162aa30",
   "metadata": {},
   "outputs": [
    {
     "name": "stdout",
     "output_type": "stream",
     "text": [
      "58/58 [==============================] - 0s 6ms/step - loss: 0.3664 - accuracy: 0.8436\n",
      "INFO:tensorflow:Assets written to: corn1\\assets\n",
      "58/58 [==============================] - 0s 5ms/step - loss: 0.3021 - accuracy: 0.8628\n",
      "INFO:tensorflow:Assets written to: corn2\\assets\n",
      "58/58 [==============================] - 0s 5ms/step - loss: 0.2887 - accuracy: 0.8699\n",
      "INFO:tensorflow:Assets written to: corn3\\assets\n",
      "58/58 [==============================] - 0s 5ms/step - loss: 0.2293 - accuracy: 0.9147\n",
      "INFO:tensorflow:Assets written to: corn4\\assets\n",
      "58/58 [==============================] - 0s 5ms/step - loss: 0.2271 - accuracy: 0.9131\n",
      "INFO:tensorflow:Assets written to: corn5\\assets\n",
      "58/58 [==============================] - 1s 6ms/step - loss: 0.2131 - accuracy: 0.9120\n",
      "INFO:tensorflow:Assets written to: corn6\\assets\n",
      "58/58 [==============================] - 0s 5ms/step - loss: 0.2181 - accuracy: 0.9125\n",
      "INFO:tensorflow:Assets written to: corn7\\assets\n",
      "58/58 [==============================] - 0s 5ms/step - loss: 0.2329 - accuracy: 0.9049\n",
      "INFO:tensorflow:Assets written to: corn8\\assets\n",
      "58/58 [==============================] - 0s 5ms/step - loss: 0.1944 - accuracy: 0.9262\n",
      "INFO:tensorflow:Assets written to: corn9\\assets\n",
      "58/58 [==============================] - 0s 5ms/step - loss: 0.2293 - accuracy: 0.9098\n",
      "INFO:tensorflow:Assets written to: corn10\\assets\n",
      "58/58 [==============================] - 0s 5ms/step - loss: 0.1975 - accuracy: 0.9235\n",
      "INFO:tensorflow:Assets written to: corn11\\assets\n",
      "58/58 [==============================] - 0s 6ms/step - loss: 0.2136 - accuracy: 0.9109\n",
      "INFO:tensorflow:Assets written to: corn12\\assets\n",
      "58/58 [==============================] - 0s 6ms/step - loss: 0.2233 - accuracy: 0.9109\n",
      "INFO:tensorflow:Assets written to: corn13\\assets\n",
      "58/58 [==============================] - 0s 6ms/step - loss: 0.2145 - accuracy: 0.9180\n",
      "INFO:tensorflow:Assets written to: corn14\\assets\n",
      "58/58 [==============================] - 0s 5ms/step - loss: 0.2115 - accuracy: 0.9196\n",
      "INFO:tensorflow:Assets written to: corn15\\assets\n",
      "58/58 [==============================] - 0s 5ms/step - loss: 0.1788 - accuracy: 0.9349\n",
      "INFO:tensorflow:Assets written to: corn16\\assets\n",
      "58/58 [==============================] - 0s 5ms/step - loss: 0.1747 - accuracy: 0.9300\n",
      "INFO:tensorflow:Assets written to: corn17\\assets\n",
      "58/58 [==============================] - 0s 5ms/step - loss: 0.1740 - accuracy: 0.9311\n",
      "INFO:tensorflow:Assets written to: corn18\\assets\n",
      "58/58 [==============================] - 0s 5ms/step - loss: 0.1791 - accuracy: 0.9366\n",
      "INFO:tensorflow:Assets written to: corn19\\assets\n",
      "58/58 [==============================] - 0s 5ms/step - loss: 0.1978 - accuracy: 0.9245\n",
      "INFO:tensorflow:Assets written to: corn20\\assets\n"
     ]
    }
   ],
   "source": [
    "crop_name = \"corn\"\n",
    "crop_model_names = []\n",
    "for num_epochs in range(1, 21):\n",
    "    model_name = crop_name + str(num_epochs)\n",
    "    trainLeNet5(train_X, train_Y, valid_X, valid_Y, num_epochs, len(corn_dataset), model_name)\n",
    "    crop_model_names.append(model_name)\n",
    "model_names.append(crop_model_names)"
   ]
  },
  {
   "cell_type": "markdown",
   "id": "78f841bd",
   "metadata": {},
   "source": [
    "# Potato"
   ]
  },
  {
   "cell_type": "code",
   "execution_count": 9,
   "id": "5eaeaf2f",
   "metadata": {},
   "outputs": [
    {
     "name": "stdout",
     "output_type": "stream",
     "text": [
      "Processing: D:/New Plant Diseases Dataset(Augmented)/New Plant Diseases Dataset(Augmented)/train/Potato___Early_blight\n",
      "Processing: D:/New Plant Diseases Dataset(Augmented)/New Plant Diseases Dataset(Augmented)/train/Potato___Late_blight\n",
      "Processing: D:/New Plant Diseases Dataset(Augmented)/New Plant Diseases Dataset(Augmented)/train/Potato___healthy\n",
      "Processing: D:/New Plant Diseases Dataset(Augmented)/New Plant Diseases Dataset(Augmented)/valid/Potato___Early_blight\n",
      "Processing: D:/New Plant Diseases Dataset(Augmented)/New Plant Diseases Dataset(Augmented)/valid/Potato___Late_blight\n",
      "Processing: D:/New Plant Diseases Dataset(Augmented)/New Plant Diseases Dataset(Augmented)/valid/Potato___healthy\n"
     ]
    }
   ],
   "source": [
    "train_X, train_Y, valid_X, valid_Y = getDataFrom(potato_dataset)"
   ]
  },
  {
   "cell_type": "code",
   "execution_count": 10,
   "id": "c25c1985",
   "metadata": {},
   "outputs": [
    {
     "name": "stdout",
     "output_type": "stream",
     "text": [
      "45/45 [==============================] - 0s 5ms/step - loss: 0.5292 - accuracy: 0.7805\n",
      "INFO:tensorflow:Assets written to: potato1\\assets\n",
      "45/45 [==============================] - 0s 5ms/step - loss: 0.3239 - accuracy: 0.8696\n",
      "INFO:tensorflow:Assets written to: potato2\\assets\n",
      "45/45 [==============================] - 0s 5ms/step - loss: 0.2997 - accuracy: 0.8892\n",
      "INFO:tensorflow:Assets written to: potato3\\assets\n",
      "45/45 [==============================] - 0s 5ms/step - loss: 0.2237 - accuracy: 0.9109\n",
      "INFO:tensorflow:Assets written to: potato4\\assets\n",
      "45/45 [==============================] - 0s 5ms/step - loss: 0.2277 - accuracy: 0.9173\n",
      "INFO:tensorflow:Assets written to: potato5\\assets\n",
      "45/45 [==============================] - 0s 5ms/step - loss: 0.2158 - accuracy: 0.9116\n",
      "INFO:tensorflow:Assets written to: potato6\\assets\n",
      "45/45 [==============================] - 0s 5ms/step - loss: 0.1622 - accuracy: 0.9390\n",
      "INFO:tensorflow:Assets written to: potato7\\assets\n",
      "45/45 [==============================] - 0s 6ms/step - loss: 0.3545 - accuracy: 0.8661\n",
      "INFO:tensorflow:Assets written to: potato8\\assets\n",
      "45/45 [==============================] - 0s 5ms/step - loss: 0.1761 - accuracy: 0.9236\n",
      "INFO:tensorflow:Assets written to: potato9\\assets\n",
      "45/45 [==============================] - 0s 5ms/step - loss: 0.2048 - accuracy: 0.9194\n",
      "INFO:tensorflow:Assets written to: potato10\\assets\n",
      "45/45 [==============================] - 0s 5ms/step - loss: 0.1449 - accuracy: 0.9355\n",
      "INFO:tensorflow:Assets written to: potato11\\assets\n",
      "45/45 [==============================] - 0s 5ms/step - loss: 0.1780 - accuracy: 0.9334\n",
      "INFO:tensorflow:Assets written to: potato12\\assets\n",
      "45/45 [==============================] - 0s 5ms/step - loss: 0.1392 - accuracy: 0.9502\n",
      "INFO:tensorflow:Assets written to: potato13\\assets\n",
      "45/45 [==============================] - 0s 5ms/step - loss: 0.1531 - accuracy: 0.9362\n",
      "INFO:tensorflow:Assets written to: potato14\\assets\n",
      "45/45 [==============================] - 0s 5ms/step - loss: 0.1633 - accuracy: 0.9390\n",
      "INFO:tensorflow:Assets written to: potato15\\assets\n",
      "45/45 [==============================] - 0s 5ms/step - loss: 0.1722 - accuracy: 0.9292\n",
      "INFO:tensorflow:Assets written to: potato16\\assets\n",
      "45/45 [==============================] - 0s 5ms/step - loss: 0.1837 - accuracy: 0.9376\n",
      "INFO:tensorflow:Assets written to: potato17\\assets\n",
      "45/45 [==============================] - 0s 6ms/step - loss: 0.1296 - accuracy: 0.9565\n",
      "INFO:tensorflow:Assets written to: potato18\\assets\n",
      "45/45 [==============================] - 0s 6ms/step - loss: 0.1193 - accuracy: 0.9537\n",
      "INFO:tensorflow:Assets written to: potato19\\assets\n",
      "45/45 [==============================] - 0s 6ms/step - loss: 0.1167 - accuracy: 0.9530\n",
      "INFO:tensorflow:Assets written to: potato20\\assets\n"
     ]
    }
   ],
   "source": [
    "crop_name = \"potato\"\n",
    "crop_model_names = []\n",
    "for num_epochs in range(1, 21):\n",
    "    model_name = crop_name + str(num_epochs)\n",
    "    trainLeNet5(train_X, train_Y, valid_X, valid_Y, num_epochs, len(potato_dataset), model_name)\n",
    "    crop_model_names.append(model_name)\n",
    "model_names.append(crop_model_names)"
   ]
  },
  {
   "cell_type": "markdown",
   "id": "7c74fa22",
   "metadata": {},
   "source": [
    "# Tomato"
   ]
  },
  {
   "cell_type": "code",
   "execution_count": 11,
   "id": "60e26413",
   "metadata": {},
   "outputs": [
    {
     "name": "stdout",
     "output_type": "stream",
     "text": [
      "Processing: D:/New Plant Diseases Dataset(Augmented)/New Plant Diseases Dataset(Augmented)/train/Tomato___Bacterial_spot\n",
      "Processing: D:/New Plant Diseases Dataset(Augmented)/New Plant Diseases Dataset(Augmented)/train/Tomato___Early_blight\n",
      "Processing: D:/New Plant Diseases Dataset(Augmented)/New Plant Diseases Dataset(Augmented)/train/Tomato___Late_blight\n",
      "Processing: D:/New Plant Diseases Dataset(Augmented)/New Plant Diseases Dataset(Augmented)/train/Tomato___Leaf_Mold\n",
      "Processing: D:/New Plant Diseases Dataset(Augmented)/New Plant Diseases Dataset(Augmented)/train/Tomato___Septoria_leaf_spot\n",
      "Processing: D:/New Plant Diseases Dataset(Augmented)/New Plant Diseases Dataset(Augmented)/train/Tomato___Spider_mites Two-spotted_spider_mite\n",
      "Processing: D:/New Plant Diseases Dataset(Augmented)/New Plant Diseases Dataset(Augmented)/train/Tomato___Target_Spot\n",
      "Processing: D:/New Plant Diseases Dataset(Augmented)/New Plant Diseases Dataset(Augmented)/train/Tomato___Tomato_Yellow_Leaf_Curl_Virus\n",
      "Processing: D:/New Plant Diseases Dataset(Augmented)/New Plant Diseases Dataset(Augmented)/train/Tomato___Tomato_mosaic_virus\n",
      "Processing: D:/New Plant Diseases Dataset(Augmented)/New Plant Diseases Dataset(Augmented)/train/Tomato___healthy\n",
      "Processing: D:/New Plant Diseases Dataset(Augmented)/New Plant Diseases Dataset(Augmented)/valid/Tomato___Bacterial_spot\n",
      "Processing: D:/New Plant Diseases Dataset(Augmented)/New Plant Diseases Dataset(Augmented)/valid/Tomato___Early_blight\n",
      "Processing: D:/New Plant Diseases Dataset(Augmented)/New Plant Diseases Dataset(Augmented)/valid/Tomato___Late_blight\n",
      "Processing: D:/New Plant Diseases Dataset(Augmented)/New Plant Diseases Dataset(Augmented)/valid/Tomato___Leaf_Mold\n",
      "Processing: D:/New Plant Diseases Dataset(Augmented)/New Plant Diseases Dataset(Augmented)/valid/Tomato___Septoria_leaf_spot\n",
      "Processing: D:/New Plant Diseases Dataset(Augmented)/New Plant Diseases Dataset(Augmented)/valid/Tomato___Spider_mites Two-spotted_spider_mite\n",
      "Processing: D:/New Plant Diseases Dataset(Augmented)/New Plant Diseases Dataset(Augmented)/valid/Tomato___Target_Spot\n",
      "Processing: D:/New Plant Diseases Dataset(Augmented)/New Plant Diseases Dataset(Augmented)/valid/Tomato___Tomato_Yellow_Leaf_Curl_Virus\n",
      "Processing: D:/New Plant Diseases Dataset(Augmented)/New Plant Diseases Dataset(Augmented)/valid/Tomato___Tomato_mosaic_virus\n",
      "Processing: D:/New Plant Diseases Dataset(Augmented)/New Plant Diseases Dataset(Augmented)/valid/Tomato___healthy\n"
     ]
    }
   ],
   "source": [
    "train_X, train_Y, valid_X, valid_Y = getDataFrom(tomato_dataset)"
   ]
  },
  {
   "cell_type": "code",
   "execution_count": 12,
   "id": "60875efe",
   "metadata": {},
   "outputs": [
    {
     "name": "stdout",
     "output_type": "stream",
     "text": [
      "144/144 [==============================] - 1s 5ms/step - loss: 1.0589 - accuracy: 0.6324\n",
      "INFO:tensorflow:Assets written to: tomato1\\assets\n",
      "144/144 [==============================] - 1s 5ms/step - loss: 0.7760 - accuracy: 0.7375\n",
      "INFO:tensorflow:Assets written to: tomato2\\assets\n",
      "144/144 [==============================] - 1s 6ms/step - loss: 0.6958 - accuracy: 0.7658\n",
      "INFO:tensorflow:Assets written to: tomato3\\assets\n",
      "144/144 [==============================] - 1s 5ms/step - loss: 0.6443 - accuracy: 0.7791\n",
      "INFO:tensorflow:Assets written to: tomato4\\assets\n",
      "144/144 [==============================] - 1s 5ms/step - loss: 0.5764 - accuracy: 0.8020\n",
      "INFO:tensorflow:Assets written to: tomato5\\assets\n",
      "144/144 [==============================] - 1s 5ms/step - loss: 0.5647 - accuracy: 0.8109\n",
      "INFO:tensorflow:Assets written to: tomato6\\assets\n",
      "144/144 [==============================] - 1s 5ms/step - loss: 0.4850 - accuracy: 0.8349\n",
      "INFO:tensorflow:Assets written to: tomato7\\assets\n",
      "144/144 [==============================] - 1s 5ms/step - loss: 0.5457 - accuracy: 0.8127\n",
      "INFO:tensorflow:Assets written to: tomato8\\assets\n",
      "144/144 [==============================] - 1s 6ms/step - loss: 0.4861 - accuracy: 0.8290\n",
      "INFO:tensorflow:Assets written to: tomato9\\assets\n",
      "144/144 [==============================] - 2s 10ms/step - loss: 0.4802 - accuracy: 0.8341\n",
      "INFO:tensorflow:Assets written to: tomato10\\assets\n",
      "144/144 [==============================] - 2s 11ms/step - loss: 0.4281 - accuracy: 0.8515\n",
      "INFO:tensorflow:Assets written to: tomato11\\assets\n",
      "144/144 [==============================] - 2s 10ms/step - loss: 0.4160 - accuracy: 0.8611\n",
      "INFO:tensorflow:Assets written to: tomato12\\assets\n",
      "144/144 [==============================] - 2s 11ms/step - loss: 0.4176 - accuracy: 0.8585\n",
      "INFO:tensorflow:Assets written to: tomato13\\assets\n",
      "144/144 [==============================] - 2s 10ms/step - loss: 0.4088 - accuracy: 0.8583\n",
      "INFO:tensorflow:Assets written to: tomato14\\assets\n",
      "144/144 [==============================] - 2s 10ms/step - loss: 0.4853 - accuracy: 0.8408\n",
      "INFO:tensorflow:Assets written to: tomato15\\assets\n",
      "144/144 [==============================] - 2s 10ms/step - loss: 0.3688 - accuracy: 0.8731\n",
      "INFO:tensorflow:Assets written to: tomato16\\assets\n",
      "144/144 [==============================] - 2s 10ms/step - loss: 0.3715 - accuracy: 0.8744\n",
      "INFO:tensorflow:Assets written to: tomato17\\assets\n",
      "144/144 [==============================] - 2s 10ms/step - loss: 0.3793 - accuracy: 0.8737\n",
      "INFO:tensorflow:Assets written to: tomato18\\assets\n",
      "144/144 [==============================] - 2s 10ms/step - loss: 0.3899 - accuracy: 0.8744\n",
      "INFO:tensorflow:Assets written to: tomato19\\assets\n",
      "144/144 [==============================] - 2s 10ms/step - loss: 0.4567 - accuracy: 0.8565\n",
      "INFO:tensorflow:Assets written to: tomato20\\assets\n"
     ]
    }
   ],
   "source": [
    "crop_name = \"tomato\"\n",
    "crop_model_names = []\n",
    "for num_epochs in range(1, 21):\n",
    "    model_name = crop_name + str(num_epochs)\n",
    "    trainLeNet5(train_X, train_Y, valid_X, valid_Y, num_epochs, len(tomato_dataset), model_name)\n",
    "    crop_model_names.append(model_name)\n",
    "model_names.append(crop_model_names)"
   ]
  },
  {
   "cell_type": "markdown",
   "id": "beb0ddc5",
   "metadata": {},
   "source": [
    "# Evaluating accuracy"
   ]
  },
  {
   "cell_type": "code",
   "execution_count": 13,
   "id": "a6ea223f",
   "metadata": {},
   "outputs": [
    {
     "name": "stdout",
     "output_type": "stream",
     "text": [
      "Processing: D:/New Plant Diseases Dataset(Augmented)/New Plant Diseases Dataset(Augmented)/train/Corn_(maize)___Cercospora_leaf_spot Gray_leaf_spot\n",
      "Processing: D:/New Plant Diseases Dataset(Augmented)/New Plant Diseases Dataset(Augmented)/train/Corn_(maize)___Common_rust_\n",
      "Processing: D:/New Plant Diseases Dataset(Augmented)/New Plant Diseases Dataset(Augmented)/train/Corn_(maize)___Northern_Leaf_Blight\n",
      "Processing: D:/New Plant Diseases Dataset(Augmented)/New Plant Diseases Dataset(Augmented)/train/Corn_(maize)___healthy\n",
      "Processing: D:/New Plant Diseases Dataset(Augmented)/New Plant Diseases Dataset(Augmented)/valid/Corn_(maize)___Cercospora_leaf_spot Gray_leaf_spot\n",
      "Processing: D:/New Plant Diseases Dataset(Augmented)/New Plant Diseases Dataset(Augmented)/valid/Corn_(maize)___Common_rust_\n",
      "Processing: D:/New Plant Diseases Dataset(Augmented)/New Plant Diseases Dataset(Augmented)/valid/Corn_(maize)___Northern_Leaf_Blight\n",
      "Processing: D:/New Plant Diseases Dataset(Augmented)/New Plant Diseases Dataset(Augmented)/valid/Corn_(maize)___healthy\n",
      "58/58 [==============================] - 1s 11ms/step - loss: 0.3664 - accuracy: 0.8436\n",
      "58/58 [==============================] - 1s 10ms/step - loss: 0.3021 - accuracy: 0.8628\n",
      "58/58 [==============================] - 1s 10ms/step - loss: 0.2887 - accuracy: 0.8699\n",
      "58/58 [==============================] - 1s 10ms/step - loss: 0.2293 - accuracy: 0.9147\n",
      "58/58 [==============================] - 1s 10ms/step - loss: 0.2271 - accuracy: 0.9131\n",
      "58/58 [==============================] - 1s 11ms/step - loss: 0.2131 - accuracy: 0.9120\n",
      "58/58 [==============================] - 1s 11ms/step - loss: 0.2181 - accuracy: 0.9125\n",
      "58/58 [==============================] - 1s 10ms/step - loss: 0.2329 - accuracy: 0.9049\n",
      "58/58 [==============================] - 1s 11ms/step - loss: 0.1944 - accuracy: 0.9262\n",
      "58/58 [==============================] - 1s 10ms/step - loss: 0.2293 - accuracy: 0.9098\n",
      "58/58 [==============================] - 1s 10ms/step - loss: 0.1975 - accuracy: 0.9235\n",
      "58/58 [==============================] - 1s 11ms/step - loss: 0.2136 - accuracy: 0.9109\n",
      "58/58 [==============================] - 1s 10ms/step - loss: 0.2233 - accuracy: 0.9109\n",
      "58/58 [==============================] - 1s 10ms/step - loss: 0.2145 - accuracy: 0.9180\n",
      "58/58 [==============================] - 1s 10ms/step - loss: 0.2115 - accuracy: 0.9196\n",
      "58/58 [==============================] - 1s 10ms/step - loss: 0.1788 - accuracy: 0.9349\n",
      "58/58 [==============================] - 1s 10ms/step - loss: 0.1747 - accuracy: 0.9300\n",
      "58/58 [==============================] - 1s 11ms/step - loss: 0.1740 - accuracy: 0.9311\n",
      "58/58 [==============================] - 1s 11ms/step - loss: 0.1791 - accuracy: 0.9366\n",
      "58/58 [==============================] - 1s 11ms/step - loss: 0.1978 - accuracy: 0.9245\n",
      "Processing: D:/New Plant Diseases Dataset(Augmented)/New Plant Diseases Dataset(Augmented)/train/Potato___Early_blight\n",
      "Processing: D:/New Plant Diseases Dataset(Augmented)/New Plant Diseases Dataset(Augmented)/train/Potato___Late_blight\n",
      "Processing: D:/New Plant Diseases Dataset(Augmented)/New Plant Diseases Dataset(Augmented)/train/Potato___healthy\n",
      "Processing: D:/New Plant Diseases Dataset(Augmented)/New Plant Diseases Dataset(Augmented)/valid/Potato___Early_blight\n",
      "Processing: D:/New Plant Diseases Dataset(Augmented)/New Plant Diseases Dataset(Augmented)/valid/Potato___Late_blight\n",
      "Processing: D:/New Plant Diseases Dataset(Augmented)/New Plant Diseases Dataset(Augmented)/valid/Potato___healthy\n",
      "45/45 [==============================] - 1s 11ms/step - loss: 0.5292 - accuracy: 0.7805\n",
      "45/45 [==============================] - 1s 11ms/step - loss: 0.3239 - accuracy: 0.8696\n",
      "45/45 [==============================] - 1s 10ms/step - loss: 0.2997 - accuracy: 0.8892\n",
      "45/45 [==============================] - 1s 11ms/step - loss: 0.2237 - accuracy: 0.9109\n",
      "45/45 [==============================] - 1s 11ms/step - loss: 0.2277 - accuracy: 0.9173\n",
      "45/45 [==============================] - 1s 11ms/step - loss: 0.2158 - accuracy: 0.9116\n",
      "45/45 [==============================] - 1s 10ms/step - loss: 0.1622 - accuracy: 0.9390\n",
      "45/45 [==============================] - 1s 11ms/step - loss: 0.3545 - accuracy: 0.8661\n",
      "45/45 [==============================] - 1s 10ms/step - loss: 0.1761 - accuracy: 0.9236\n",
      "45/45 [==============================] - 1s 11ms/step - loss: 0.2048 - accuracy: 0.9194\n",
      "45/45 [==============================] - 1s 10ms/step - loss: 0.1449 - accuracy: 0.9355\n",
      "45/45 [==============================] - 1s 11ms/step - loss: 0.1780 - accuracy: 0.9334\n",
      "45/45 [==============================] - 1s 11ms/step - loss: 0.1392 - accuracy: 0.9502\n",
      "45/45 [==============================] - 1s 11ms/step - loss: 0.1531 - accuracy: 0.9362\n",
      "45/45 [==============================] - 1s 10ms/step - loss: 0.1633 - accuracy: 0.9390\n",
      "45/45 [==============================] - 1s 11ms/step - loss: 0.1722 - accuracy: 0.9292\n",
      "45/45 [==============================] - 1s 11ms/step - loss: 0.1837 - accuracy: 0.9376\n",
      "45/45 [==============================] - 1s 11ms/step - loss: 0.1296 - accuracy: 0.9565\n",
      "45/45 [==============================] - 1s 11ms/step - loss: 0.1193 - accuracy: 0.9537\n",
      "45/45 [==============================] - 1s 11ms/step - loss: 0.1167 - accuracy: 0.9530\n",
      "Processing: D:/New Plant Diseases Dataset(Augmented)/New Plant Diseases Dataset(Augmented)/train/Tomato___Bacterial_spot\n",
      "Processing: D:/New Plant Diseases Dataset(Augmented)/New Plant Diseases Dataset(Augmented)/train/Tomato___Early_blight\n",
      "Processing: D:/New Plant Diseases Dataset(Augmented)/New Plant Diseases Dataset(Augmented)/train/Tomato___Late_blight\n",
      "Processing: D:/New Plant Diseases Dataset(Augmented)/New Plant Diseases Dataset(Augmented)/train/Tomato___Leaf_Mold\n",
      "Processing: D:/New Plant Diseases Dataset(Augmented)/New Plant Diseases Dataset(Augmented)/train/Tomato___Septoria_leaf_spot\n",
      "Processing: D:/New Plant Diseases Dataset(Augmented)/New Plant Diseases Dataset(Augmented)/train/Tomato___Spider_mites Two-spotted_spider_mite\n",
      "Processing: D:/New Plant Diseases Dataset(Augmented)/New Plant Diseases Dataset(Augmented)/train/Tomato___Target_Spot\n",
      "Processing: D:/New Plant Diseases Dataset(Augmented)/New Plant Diseases Dataset(Augmented)/train/Tomato___Tomato_Yellow_Leaf_Curl_Virus\n",
      "Processing: D:/New Plant Diseases Dataset(Augmented)/New Plant Diseases Dataset(Augmented)/train/Tomato___Tomato_mosaic_virus\n",
      "Processing: D:/New Plant Diseases Dataset(Augmented)/New Plant Diseases Dataset(Augmented)/train/Tomato___healthy\n",
      "Processing: D:/New Plant Diseases Dataset(Augmented)/New Plant Diseases Dataset(Augmented)/valid/Tomato___Bacterial_spot\n",
      "Processing: D:/New Plant Diseases Dataset(Augmented)/New Plant Diseases Dataset(Augmented)/valid/Tomato___Early_blight\n",
      "Processing: D:/New Plant Diseases Dataset(Augmented)/New Plant Diseases Dataset(Augmented)/valid/Tomato___Late_blight\n",
      "Processing: D:/New Plant Diseases Dataset(Augmented)/New Plant Diseases Dataset(Augmented)/valid/Tomato___Leaf_Mold\n",
      "Processing: D:/New Plant Diseases Dataset(Augmented)/New Plant Diseases Dataset(Augmented)/valid/Tomato___Septoria_leaf_spot\n",
      "Processing: D:/New Plant Diseases Dataset(Augmented)/New Plant Diseases Dataset(Augmented)/valid/Tomato___Spider_mites Two-spotted_spider_mite\n",
      "Processing: D:/New Plant Diseases Dataset(Augmented)/New Plant Diseases Dataset(Augmented)/valid/Tomato___Target_Spot\n",
      "Processing: D:/New Plant Diseases Dataset(Augmented)/New Plant Diseases Dataset(Augmented)/valid/Tomato___Tomato_Yellow_Leaf_Curl_Virus\n",
      "Processing: D:/New Plant Diseases Dataset(Augmented)/New Plant Diseases Dataset(Augmented)/valid/Tomato___Tomato_mosaic_virus\n",
      "Processing: D:/New Plant Diseases Dataset(Augmented)/New Plant Diseases Dataset(Augmented)/valid/Tomato___healthy\n",
      "144/144 [==============================] - 2s 12ms/step - loss: 1.0589 - accuracy: 0.6324\n",
      "144/144 [==============================] - 2s 11ms/step - loss: 0.7760 - accuracy: 0.7375\n",
      "144/144 [==============================] - 2s 11ms/step - loss: 0.6958 - accuracy: 0.7658\n",
      "144/144 [==============================] - 2s 11ms/step - loss: 0.6443 - accuracy: 0.7791\n",
      "144/144 [==============================] - 2s 11ms/step - loss: 0.5764 - accuracy: 0.8020\n"
     ]
    },
    {
     "name": "stdout",
     "output_type": "stream",
     "text": [
      "144/144 [==============================] - 2s 10ms/step - loss: 0.5647 - accuracy: 0.8109\n",
      "144/144 [==============================] - 2s 10ms/step - loss: 0.4850 - accuracy: 0.8349\n",
      "144/144 [==============================] - 2s 10ms/step - loss: 0.5457 - accuracy: 0.8127\n",
      "144/144 [==============================] - 2s 11ms/step - loss: 0.4861 - accuracy: 0.8290\n",
      "144/144 [==============================] - 2s 11ms/step - loss: 0.4802 - accuracy: 0.8341\n",
      "144/144 [==============================] - 2s 11ms/step - loss: 0.4281 - accuracy: 0.8515\n",
      "144/144 [==============================] - 2s 10ms/step - loss: 0.4160 - accuracy: 0.8611\n",
      "144/144 [==============================] - 2s 10ms/step - loss: 0.4176 - accuracy: 0.8585\n",
      "144/144 [==============================] - 2s 11ms/step - loss: 0.4088 - accuracy: 0.8583\n",
      "144/144 [==============================] - 2s 11ms/step - loss: 0.4853 - accuracy: 0.8408\n",
      "144/144 [==============================] - 2s 11ms/step - loss: 0.3688 - accuracy: 0.8731\n",
      "144/144 [==============================] - 2s 11ms/step - loss: 0.3715 - accuracy: 0.8744\n",
      "144/144 [==============================] - 2s 10ms/step - loss: 0.3793 - accuracy: 0.8737\n",
      "144/144 [==============================] - 2s 10ms/step - loss: 0.3899 - accuracy: 0.8744\n",
      "144/144 [==============================] - 2s 10ms/step - loss: 0.4567 - accuracy: 0.8565\n"
     ]
    }
   ],
   "source": [
    "train_X, train_Y, valid_X, valid_Y = getDataFrom(corn_dataset)\n",
    "corn_accuracy = [(i, load_model(\"corn\" + str(i)).evaluate(valid_X, valid_Y)[1]) for i in range(1, 21)]\n",
    "train_X, train_Y, valid_X, valid_Y = getDataFrom(potato_dataset)\n",
    "potato_accuracy = [(i, load_model(\"potato\" + str(i)).evaluate(valid_X, valid_Y)[1]) for i in range(1, 21)]\n",
    "train_X, train_Y, valid_X, valid_Y = getDataFrom(tomato_dataset)\n",
    "tomato_accuracy = [(i, load_model(\"tomato\" + str(i)).evaluate(valid_X, valid_Y)[1]) for i in range(1, 21)]"
   ]
  },
  {
   "cell_type": "code",
   "execution_count": 14,
   "id": "a962235b",
   "metadata": {},
   "outputs": [
    {
     "data": {
      "image/png": "[encoded data removed]",
      "text/plain": [
       "<Figure size 432x288 with 1 Axes>"
      ]
     },
     "metadata": {
      "needs_background": "light"
     },
     "output_type": "display_data"
    }
   ],
   "source": [
    "plt.plot([score[0] for score in corn_accuracy], [score[1] for score in corn_accuracy])\n",
    "plt.xlabel(\"Number of epochs\")\n",
    "plt.ylabel(\"Test Accuracy\")\n",
    "plt.title(\"LeNet-5 on Corn Dataset\")\n",
    "plt.xticks([i for i in range(1, 21)])\n",
    "plt.show()"
   ]
  },
  {
   "cell_type": "code",
   "execution_count": 15,
   "id": "bbb7a01d",
   "metadata": {},
   "outputs": [
    {
     "data": {
      "image/png": "[encoded data removed]",
      "text/plain": [
       "<Figure size 432x288 with 1 Axes>"
      ]
     },
     "metadata": {
      "needs_background": "light"
     },
     "output_type": "display_data"
    }
   ],
   "source": [
    "plt.plot([score[0] for score in potato_accuracy], [score[1] for score in potato_accuracy])\n",
    "plt.xlabel(\"Number of epochs\")\n",
    "plt.ylabel(\"Test Accuracy\")\n",
    "plt.title(\"LeNet-5 on Potato Dataset\")\n",
    "plt.xticks([i for i in range(1, 21)])\n",
    "plt.savefig(\"corn_test_acc\")\n",
    "plt.show()"
   ]
  },
  {
   "cell_type": "code",
   "execution_count": 16,
   "id": "14fbab1b",
   "metadata": {},
   "outputs": [
    {
     "data": {
      "image/png": "[encoded data removed]",
      "text/plain": [
       "<Figure size 432x288 with 1 Axes>"
      ]
     },
     "metadata": {
      "needs_background": "light"
     },
     "output_type": "display_data"
    }
   ],
   "source": [
    "plt.plot([score[0] for score in tomato_accuracy], [score[1] for score in tomato_accuracy])\n",
    "plt.xlabel(\"Number of epochs\")\n",
    "plt.ylabel(\"Test Accuracy\")\n",
    "plt.title(\"LeNet-5 on Tomato Dataset\")\n",
    "plt.xticks([i for i in range(1, 21)])\n",
    "plt.show()"
   ]
  },
  {
   "cell_type": "code",
   "execution_count": 17,
   "id": "f57c3c88",
   "metadata": {},
   "outputs": [
    {
     "name": "stdout",
     "output_type": "stream",
     "text": [
      "10 Epochs Corn Accuracy: 90.98%\n",
      "12 Epochs Corn Accuracy: 91.09%\n",
      "20 Epochs Corn Accuracy: 92.45%\n"
     ]
    }
   ],
   "source": [
    "print(\"10 Epochs Corn Accuracy: \" + str(round(corn_accuracy[9][1] * 100, 2)) + \"%\")\n",
    "print(\"12 Epochs Corn Accuracy: \" + str(round(corn_accuracy[11][1] * 100, 2)) + \"%\")\n",
    "print(\"20 Epochs Corn Accuracy: \" + str(round(corn_accuracy[19][1] * 100, 2)) + \"%\")"
   ]
  },
  {
   "cell_type": "code",
   "execution_count": 18,
   "id": "12720afa",
   "metadata": {},
   "outputs": [
    {
     "name": "stdout",
     "output_type": "stream",
     "text": [
      "10 Epochs Potato Accuracy: 91.94%\n",
      "12 Epochs Potato Accuracy: 93.34%\n",
      "20 Epochs Potato Accuracy: 95.3%\n"
     ]
    }
   ],
   "source": [
    "print(\"10 Epochs Potato Accuracy: \" + str(round(potato_accuracy[9][1] * 100, 2)) + \"%\")\n",
    "print(\"12 Epochs Potato Accuracy: \" + str(round(potato_accuracy[11][1] * 100, 2)) + \"%\")\n",
    "print(\"20 Epochs Potato Accuracy: \" + str(round(potato_accuracy[19][1] * 100, 2)) + \"%\")"
   ]
  },
  {
   "cell_type": "code",
   "execution_count": 19,
   "id": "48f985ff",
   "metadata": {},
   "outputs": [
    {
     "name": "stdout",
     "output_type": "stream",
     "text": [
      "10 Epochs Tomato Accuracy: 83.41%\n",
      "12 Epochs Tomato Accuracy: 86.11%\n",
      "20 Epochs Tomato Accuracy: 85.65%\n"
     ]
    }
   ],
   "source": [
    "print(\"10 Epochs Tomato Accuracy: \" + str(round(tomato_accuracy[9][1] * 100, 2)) + \"%\")\n",
    "print(\"12 Epochs Tomato Accuracy: \" + str(round(tomato_accuracy[11][1] * 100, 2)) + \"%\")\n",
    "print(\"20 Epochs Tomato Accuracy: \" + str(round(tomato_accuracy[19][1] * 100, 2)) + \"%\")"
   ]
  }
 ],
 "metadata": {
  "kernelspec": {
   "display_name": "Python 3 (ipykernel)",
   "language": "python",
   "name": "python3"
  },
  "language_info": {
   "codemirror_mode": {
    "name": "ipython",
    "version": 3
   },
   "file_extension": ".py",
   "mimetype": "text/x-python",
   "name": "python",
   "nbconvert_exporter": "python",
   "pygments_lexer": "ipython3",
   "version": "3.7.0"
  }
 },
 "nbformat": 4,
 "nbformat_minor": 5
}
